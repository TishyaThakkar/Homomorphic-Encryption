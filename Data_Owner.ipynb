{
 "cells": [
  {
   "cell_type": "markdown",
   "metadata": {},
   "source": [
    "# Data Owner"
   ]
  },
  {
   "cell_type": "code",
   "execution_count": 1,
   "metadata": {},
   "outputs": [],
   "source": [
    "import os\n",
    "import syft as sy\n",
    "import tenseal as ts\n",
    "import torch\n",
    "import pandas as pd\n",
    "import random\n",
    "import numpy as np\n",
    "import requests\n",
    "\n",
    "import pytest\n",
    "from time import time\n",
    "import matplotlib.pyplot as plt\n",
    "import sys\n",
    "sy.logger.add(sys.stdout)"
   ]
  },
  {
   "cell_type": "markdown",
   "metadata": {},
   "source": [
    "### Starting Duet Data Owner instance"
   ]
  },
  {
   "cell_type": "code",
   "execution_count": 2,
   "metadata": {},
   "outputs": [
    {
     "name": "stdout",
     "output_type": "stream",
     "text": [
      "🎤  🎸  ♪♪♪ Starting Duet ♫♫♫  🎻  🎹\n",
      "\n",
      "♫♫♫ >\u001b[93m DISCLAIMER\u001b[0m: \u001b[1mDuet is an experimental feature currently in beta.\n",
      "♫♫♫ > Use at your own risk.\n",
      "\u001b[0m\n",
      "\u001b[1m\n",
      "    > ❤️ \u001b[91mLove\u001b[0m \u001b[92mDuet\u001b[0m? \u001b[93mPlease\u001b[0m \u001b[94mconsider\u001b[0m \u001b[95msupporting\u001b[0m \u001b[91mour\u001b[0m \u001b[93mcommunity!\u001b[0m\n",
      "    > https://github.com/sponsors/OpenMined\u001b[1m\n",
      "\n",
      "♫♫♫ > Punching through firewall to OpenGrid Network Node at:\n",
      "♫♫♫ > http://ec2-18-218-7-180.us-east-2.compute.amazonaws.com:5000\n",
      "♫♫♫ >\n",
      "♫♫♫ > ...waiting for response from OpenGrid Network... \n",
      "♫♫♫ > \u001b[92mDONE!\u001b[0m\n",
      "♫♫♫ > Duet Server ID: \u001b[1mefec618a93e5d4d007bb62f93814aa03\u001b[0m\n",
      "\n",
      "♫♫♫ > \u001b[95mSTEP 1:\u001b[0m Send the following code to your Duet Partner!\n",
      "\n",
      "import syft as sy\n",
      "duet = sy.duet(\"\u001b[1mefec618a93e5d4d007bb62f93814aa03\u001b[0m\")\n",
      "\n",
      "♫♫♫ > \u001b[95mSTEP 2:\u001b[0m Ask your partner for their Client ID and enter it below!\n",
      "♫♫♫ > Duet Partner's Client ID: 8d0966df25e61f47b3119c7102f6780f\n",
      "\n",
      "♫♫♫ > Connecting...\n",
      "\n",
      "♫♫♫ > \u001b[92mCONNECTED!\u001b[0m\n",
      "\n",
      "Encryption of the test-set took 0 secondsquests: 0   Messages: 18  Request Handlers: 0                                                        \n",
      "♫♫♫ > DUET LIVE STATUS  *  Objects: 5  Requests: 0   Messages: 39  Request Handlers: 0                                                         \r"
     ]
    }
   ],
   "source": [
    "duet = sy.launch_duet()"
   ]
  },
  {
   "cell_type": "markdown",
   "metadata": {},
   "source": []
  },
  {
   "cell_type": "markdown",
   "metadata": {},
   "source": [
    "## Evaluating the Logistic Regression on Encrypted Data"
   ]
  },
  {
   "cell_type": "markdown",
   "metadata": {},
   "source": [
    "### Prepare the data\n",
    "\n",
    "We now prepare the training and test data, the dataset was downloaded from Kaggle.\n",
    "\n",
    "This dataset provides patients' information along with a 10-year risk of future coronary heart disease (CHD) as a label, and the goal is to build a model that can predict this 10-year CHD risk based on patients' information, you can read more about the dataset in the link provided."
   ]
  },
  {
   "cell_type": "code",
   "execution_count": 16,
   "metadata": {},
   "outputs": [],
   "source": [
    "from syft.util import get_root_data_path\n",
    "\n",
    "def split_train_test(x, y, test_ratio=0.3):\n",
    "    idxs = [i for i in range(len(x))]\n",
    "    random.shuffle(idxs)\n",
    "    # delimiter between test and train data\n",
    "    delim = int(len(x) * test_ratio)\n",
    "    test_idxs, train_idxs = idxs[:delim], idxs[delim:]\n",
    "    return x[train_idxs], y[train_idxs], x[test_idxs], y[test_idxs]\n",
    "            \n",
    "def heart_disease_data():\n",
    "    data = pd.read_csv(f\"./framingham.csv\")\n",
    "    data.head()\n",
    "    # drop rows with missing values\n",
    "    data = data.dropna()\n",
    "    # drop some features\n",
    "    data = data.drop(columns=[\"education\", \"currentSmoker\", \"BPMeds\", \"diabetes\", \"diaBP\", \"BMI\"])\n",
    "    # balance data\n",
    "    grouped = data.groupby('TenYearCHD')\n",
    "    data = grouped.apply(lambda x: x.sample(grouped.size().min(), random_state=73).reset_index(drop=True))\n",
    "    # extract labels\n",
    "    y = torch.tensor(data[\"TenYearCHD\"].values).float().unsqueeze(1)\n",
    "    data = data.drop(\"TenYearCHD\", 'columns')\n",
    "    # standardize data\n",
    "    data = (data - data.mean()) / data.std()\n",
    "    x = torch.tensor(data.values).float()\n",
    "    return split_train_test(x, y)\n",
    "\n",
    "\n",
    "x_train, y_train, x_test, y_test = heart_disease_data()"
   ]
  },
  {
   "cell_type": "markdown",
   "metadata": {},
   "source": [
    "### Making Training data Referenceable over Duet\n",
    "\n",
    "making the traning data available."
   ]
  },
  {
   "cell_type": "code",
   "execution_count": 4,
   "metadata": {},
   "outputs": [],
   "source": [
    "x_train_ptr = x_train.send(duet, pointable=True, tags=[\"x_train\"])\n",
    "y_train_ptr = y_train.send(duet, pointable=True, tags=[\"y_train\"])"
   ]
  },
  {
   "cell_type": "markdown",
   "metadata": {},
   "source": [
    "### Look for the requests"
   ]
  },
  {
   "cell_type": "code",
   "execution_count": 6,
   "metadata": {},
   "outputs": [],
   "source": [
    "duet.requests.pandas"
   ]
  },
  {
   "cell_type": "markdown",
   "metadata": {},
   "source": [
    "### Approve the requests"
   ]
  },
  {
   "cell_type": "code",
   "execution_count": 5,
   "metadata": {},
   "outputs": [
    {
     "data": {
      "text/html": [
       "<div>\n",
       "<style scoped>\n",
       "    .dataframe tbody tr th:only-of-type {\n",
       "        vertical-align: middle;\n",
       "    }\n",
       "\n",
       "    .dataframe tbody tr th {\n",
       "        vertical-align: top;\n",
       "    }\n",
       "\n",
       "    .dataframe thead th {\n",
       "        text-align: right;\n",
       "    }\n",
       "</style>\n",
       "<table border=\"1\" class=\"dataframe\">\n",
       "  <thead>\n",
       "    <tr style=\"text-align: right;\">\n",
       "      <th></th>\n",
       "      <th>Requested Object's tags</th>\n",
       "      <th>Reason</th>\n",
       "      <th>Request ID</th>\n",
       "      <th>Requested Object's ID</th>\n",
       "      <th>Requested Object's type</th>\n",
       "    </tr>\n",
       "  </thead>\n",
       "  <tbody>\n",
       "    <tr>\n",
       "      <th>0</th>\n",
       "      <td>[x_train]</td>\n",
       "      <td>I would like to get the training data</td>\n",
       "      <td>&lt;UID: 90854230809541608a55bed379ec17f7&gt;</td>\n",
       "      <td>&lt;UID: befbda91a96b438b94903fe07bf33d2b&gt;</td>\n",
       "      <td>&lt;class 'torch.Tensor'&gt;</td>\n",
       "    </tr>\n",
       "    <tr>\n",
       "      <th>1</th>\n",
       "      <td>[y_train]</td>\n",
       "      <td>I would like to get the training labels</td>\n",
       "      <td>&lt;UID: a6b07546455f4b3a978323addf9c47c1&gt;</td>\n",
       "      <td>&lt;UID: 820c2aad01bf4c1986e7ebf32bcbc3fa&gt;</td>\n",
       "      <td>&lt;class 'torch.Tensor'&gt;</td>\n",
       "    </tr>\n",
       "  </tbody>\n",
       "</table>\n",
       "</div>"
      ],
      "text/plain": [
       "  Requested Object's tags                                   Reason  \\\n",
       "0               [x_train]    I would like to get the training data   \n",
       "1               [y_train]  I would like to get the training labels   \n",
       "\n",
       "                                Request ID  \\\n",
       "0  <UID: 90854230809541608a55bed379ec17f7>   \n",
       "1  <UID: a6b07546455f4b3a978323addf9c47c1>   \n",
       "\n",
       "                     Requested Object's ID Requested Object's type  \n",
       "0  <UID: befbda91a96b438b94903fe07bf33d2b>  <class 'torch.Tensor'>  \n",
       "1  <UID: 820c2aad01bf4c1986e7ebf32bcbc3fa>  <class 'torch.Tensor'>  "
      ]
     },
     "execution_count": 5,
     "metadata": {},
     "output_type": "execute_result"
    }
   ],
   "source": [
    "duet.requests[0].accept()\n",
    "duet.requests[0].accept()"
   ]
  },
  {
   "cell_type": "markdown",
   "metadata": {},
   "source": [
    "### Encrypt the data\n"
   ]
  },
  {
   "cell_type": "code",
   "execution_count": 8,
   "metadata": {},
   "outputs": [],
   "source": [
    "context = ts.Context(\n",
    "    ts.SCHEME_TYPE.CKKS,\n",
    "    poly_modulus_degree=8192,\n",
    "    coeff_mod_bit_sizes=[60, 40, 40, 60]\n",
    ")\n",
    "context.global_scale = 2**40\n",
    "context.generate_galois_keys()\n",
    "t_start = time()\n",
    "x_test = x_test[:10] #selecting 10 for encryption\n",
    "enc_x_test = sy.lib.python.List([ts.ckks_vector(context, x.tolist()) for x in x_test]) #encrypting the data\n",
    "t_end = time()\n",
    "print(f\"Encryption of the test-set took {int(t_end - t_start)} seconds\")"
   ]
  },
  {
   "cell_type": "markdown",
   "metadata": {},
   "source": [
    "### Making the Encrypted Test Data Referenceable over Duet"
   ]
  },
  {
   "cell_type": "code",
   "execution_count": 9,
   "metadata": {},
   "outputs": [],
   "source": [
    "ctx_ptr = context.send(duet, pointable=True, tags=[\"context\"])\n",
    "enc_x_test_ptr = enc_x_test.send(duet, pointable=True, tags=[\"enc_x_test\"])"
   ]
  },
  {
   "cell_type": "markdown",
   "metadata": {},
   "source": [
    "### Look for the requests"
   ]
  },
  {
   "cell_type": "code",
   "execution_count": 11,
   "metadata": {},
   "outputs": [
    {
     "data": {
      "text/html": [
       "<div>\n",
       "<style scoped>\n",
       "    .dataframe tbody tr th:only-of-type {\n",
       "        vertical-align: middle;\n",
       "    }\n",
       "\n",
       "    .dataframe tbody tr th {\n",
       "        vertical-align: top;\n",
       "    }\n",
       "\n",
       "    .dataframe thead th {\n",
       "        text-align: right;\n",
       "    }\n",
       "</style>\n",
       "<table border=\"1\" class=\"dataframe\">\n",
       "  <thead>\n",
       "    <tr style=\"text-align: right;\">\n",
       "      <th></th>\n",
       "      <th>Requested Object's tags</th>\n",
       "      <th>Reason</th>\n",
       "      <th>Request ID</th>\n",
       "      <th>Requested Object's ID</th>\n",
       "      <th>Requested Object's type</th>\n",
       "    </tr>\n",
       "  </thead>\n",
       "  <tbody>\n",
       "    <tr>\n",
       "      <th>0</th>\n",
       "      <td>[context]</td>\n",
       "      <td>I would like to get the context</td>\n",
       "      <td>&lt;UID: 3616ad7c97bb4a9db5a26b9d2b7cdd96&gt;</td>\n",
       "      <td>&lt;UID: cd7208cb47b548e09bb2bd14ed81e454&gt;</td>\n",
       "      <td>&lt;class 'tenseal.enc_context.Context'&gt;</td>\n",
       "    </tr>\n",
       "    <tr>\n",
       "      <th>1</th>\n",
       "      <td>[enc_x_test]</td>\n",
       "      <td>I would like to get encrypted test set</td>\n",
       "      <td>&lt;UID: d48eb42962924f7d8fc9c8dea6be560a&gt;</td>\n",
       "      <td>&lt;UID: c2f2b8e1f6d64229a193e53f19d921e0&gt;</td>\n",
       "      <td>&lt;class 'syft.lib.python.list.List'&gt;</td>\n",
       "    </tr>\n",
       "  </tbody>\n",
       "</table>\n",
       "</div>"
      ],
      "text/plain": [
       "  Requested Object's tags                                  Reason  \\\n",
       "0               [context]         I would like to get the context   \n",
       "1            [enc_x_test]  I would like to get encrypted test set   \n",
       "\n",
       "                                Request ID  \\\n",
       "0  <UID: 3616ad7c97bb4a9db5a26b9d2b7cdd96>   \n",
       "1  <UID: d48eb42962924f7d8fc9c8dea6be560a>   \n",
       "\n",
       "                     Requested Object's ID  \\\n",
       "0  <UID: cd7208cb47b548e09bb2bd14ed81e454>   \n",
       "1  <UID: c2f2b8e1f6d64229a193e53f19d921e0>   \n",
       "\n",
       "                 Requested Object's type  \n",
       "0  <class 'tenseal.enc_context.Context'>  \n",
       "1    <class 'syft.lib.python.list.List'>  "
      ]
     },
     "execution_count": 11,
     "metadata": {},
     "output_type": "execute_result"
    }
   ],
   "source": [
    "# We can see that there are two requests, for the context and for the encrypted data.\n",
    "duet.requests.pandas"
   ]
  },
  {
   "cell_type": "markdown",
   "metadata": {},
   "source": [
    "### Approve the requests"
   ]
  },
  {
   "cell_type": "code",
   "execution_count": 12,
   "metadata": {},
   "outputs": [],
   "source": [
    "duet.requests[0].accept()\n",
    "duet.requests[0].accept()"
   ]
  },
  {
   "cell_type": "markdown",
   "metadata": {},
   "source": [
    "### look at the duet store for results"
   ]
  },
  {
   "cell_type": "code",
   "execution_count": 14,
   "metadata": {},
   "outputs": [
    {
     "name": "stdout",
     "output_type": "stream",
     "text": [
      "                                        ID           Tags Description  \\\n",
      "0  <UID: befbda91a96b438b94903fe07bf33d2b>      [x_train]               \n",
      "1  <UID: 820c2aad01bf4c1986e7ebf32bcbc3fa>      [y_train]               \n",
      "2  <UID: cd7208cb47b548e09bb2bd14ed81e454>      [context]               \n",
      "3  <UID: c2f2b8e1f6d64229a193e53f19d921e0>   [enc_x_test]               \n",
      "4  <UID: 42a367b3ba7441a3808c56ba6b982829>  [result_eval]               \n",
      "\n",
      "                             object_type  \n",
      "0                 <class 'torch.Tensor'>  \n",
      "1                 <class 'torch.Tensor'>  \n",
      "2  <class 'tenseal.enc_context.Context'>  \n",
      "3    <class 'syft.lib.python.list.List'>  \n",
      "4    <class 'syft.lib.python.list.List'>  \n"
     ]
    }
   ],
   "source": [
    "print(duet.store.pandas)"
   ]
  },
  {
   "cell_type": "markdown",
   "metadata": {},
   "source": [
    "### Test the accuracy"
   ]
  },
  {
   "cell_type": "code",
   "execution_count": 15,
   "metadata": {},
   "outputs": [
    {
     "name": "stdout",
     "output_type": "stream",
     "text": [
      "Evaluated test_set of 20 entries. Accuracy: 10/20 = 0.5\n"
     ]
    }
   ],
   "source": [
    "result_eval = duet.store[\"result_eval\"].get(delete_obj=False)\n",
    "correct = 0\n",
    "for actual, expected in zip(result_eval, y_test):\n",
    "    actual.link_context(context)\n",
    "    actual = torch.tensor(actual.decrypt())\n",
    "    actual = torch.sigmoid(actual)\n",
    "\n",
    "    if torch.abs(actual - expected) < 0.5:\n",
    "        correct += 1\n",
    "        \n",
    "print(f\"Evaluated test_set of {len(x_test)} entries. Accuracy: {correct}/{len(x_test)} = {correct / len(x_test)}\")"
   ]
  }
 ],
 "metadata": {
  "kernelspec": {
   "display_name": "Python 3",
   "language": "python",
   "name": "python3"
  },
  "language_info": {
   "codemirror_mode": {
    "name": "ipython",
    "version": 3
   },
   "file_extension": ".py",
   "mimetype": "text/x-python",
   "name": "python",
   "nbconvert_exporter": "python",
   "pygments_lexer": "ipython3",
   "version": "3.9.5"
  }
 },
 "nbformat": 4,
 "nbformat_minor": 4
}
