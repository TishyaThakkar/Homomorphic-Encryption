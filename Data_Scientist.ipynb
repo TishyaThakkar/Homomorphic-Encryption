{
 "cells": [
  {
   "cell_type": "markdown",
   "metadata": {},
   "source": [
    "# Data Owner"
   ]
  },
  {
   "cell_type": "code",
   "execution_count": 1,
   "metadata": {},
   "outputs": [],
   "source": [
    "import syft as sy\n",
    "import tenseal as ts\n",
    "import torch\n",
    "import pandas as pd\n",
    "import random\n",
    "import numpy as np\n",
    "\n",
    "import pytest\n",
    "from time import time\n",
    "import matplotlib.pyplot as plt"
   ]
  },
  {
   "cell_type": "markdown",
   "metadata": {},
   "source": [
    "### Joining the Duet"
   ]
  },
  {
   "cell_type": "code",
   "execution_count": 3,
   "metadata": {
    "scrolled": true
   },
   "outputs": [
    {
     "name": "stdout",
     "output_type": "stream",
     "text": [
      "🎤  🎸  ♪♪♪ Joining Duet ♫♫♫  🎻  🎹\n",
      "\n",
      "♫♫♫ >\u001b[93m DISCLAIMER\u001b[0m: \u001b[1mDuet is an experimental feature currently in beta.\n",
      "♫♫♫ > Use at your own risk.\n",
      "\u001b[0m\n",
      "\u001b[1m\n",
      "    > ❤️ \u001b[91mLove\u001b[0m \u001b[92mDuet\u001b[0m? \u001b[93mPlease\u001b[0m \u001b[94mconsider\u001b[0m \u001b[95msupporting\u001b[0m \u001b[91mour\u001b[0m \u001b[93mcommunity!\u001b[0m\n",
      "    > https://github.com/sponsors/OpenMined\u001b[1m\n",
      "\n",
      "♫♫♫ > Punching through firewall to OpenGrid Network Node at:\n",
      "♫♫♫ > http://ec2-18-218-7-180.us-east-2.compute.amazonaws.com:5000\n",
      "♫♫♫ >\n",
      "♫♫♫ > ...waiting for response from OpenGrid Network... \n",
      "♫♫♫ > \u001b[92mDONE!\u001b[0m\n",
      "\n",
      "♫♫♫ > \u001b[95mSTEP 1:\u001b[0m Send the following Duet Client ID to your duet partner!\n",
      "♫♫♫ > Duet Client ID: \u001b[1m8d0966df25e61f47b3119c7102f6780f\u001b[0m\n",
      "\n",
      "♫♫♫ > ...waiting for partner to connect...\n",
      "\n",
      "♫♫♫ > \u001b[92mCONNECTED!\u001b[0m\n"
     ]
    }
   ],
   "source": [
    "duet = sy.duet(\"efec618a93e5d4d007bb62f93814aa03\")"
   ]
  },
  {
   "cell_type": "markdown",
   "metadata": {},
   "source": [
    "### Defining The Model\n",
    "\n",
    "Here we define the models used by the Data Scientist.\n",
    "\n",
    " - __LR__ is a simple logistic regression for plain data.\n",
    " - __EncryptedLR__ adapts the forward method to the API exposed by the encrypted ciphertexts."
   ]
  },
  {
   "cell_type": "code",
   "execution_count": 4,
   "metadata": {},
   "outputs": [],
   "source": [
    "class LR(torch.nn.Module):\n",
    "\n",
    "    def __init__(self, n_features):\n",
    "        super(LR, self).__init__()\n",
    "        self.lr = torch.nn.Linear(n_features, 1)\n",
    "        \n",
    "    def forward(self, x):\n",
    "        out = torch.sigmoid(self.lr(x))\n",
    "        return out\n",
    "    \n",
    "class EncryptedLR:\n",
    "    def __init__(self, torch_lr):\n",
    "        # TenSEAL processes lists and not torch tensors\n",
    "        # so we take out parameters from the PyTorch model\n",
    "        self.weight = torch_lr.lr.weight.data.tolist()[0]\n",
    "        self.bias = torch_lr.lr.bias.data.tolist()\n",
    "        \n",
    "    def forward(self, enc_x):\n",
    "        # We don't need to perform sigmoid as this model\n",
    "        # will only be used for evaluation, and the label\n",
    "        # can be deduced without applying sigmoid\n",
    "        enc_out = enc_x.dot(self.weight) + self.bias\n",
    "        return enc_out\n",
    "    \n",
    "    def __call__(self, *args, **kwargs):\n",
    "        return self.forward(*args, **kwargs)"
   ]
  },
  {
   "cell_type": "markdown",
   "metadata": {},
   "source": [
    "### Look at the data available in Duet"
   ]
  },
  {
   "cell_type": "code",
   "execution_count": 5,
   "metadata": {
    "scrolled": false
   },
   "outputs": [
    {
     "data": {
      "text/html": [
       "<div>\n",
       "<style scoped>\n",
       "    .dataframe tbody tr th:only-of-type {\n",
       "        vertical-align: middle;\n",
       "    }\n",
       "\n",
       "    .dataframe tbody tr th {\n",
       "        vertical-align: top;\n",
       "    }\n",
       "\n",
       "    .dataframe thead th {\n",
       "        text-align: right;\n",
       "    }\n",
       "</style>\n",
       "<table border=\"1\" class=\"dataframe\">\n",
       "  <thead>\n",
       "    <tr style=\"text-align: right;\">\n",
       "      <th></th>\n",
       "      <th>ID</th>\n",
       "      <th>Tags</th>\n",
       "      <th>Description</th>\n",
       "      <th>object_type</th>\n",
       "    </tr>\n",
       "  </thead>\n",
       "  <tbody>\n",
       "    <tr>\n",
       "      <th>0</th>\n",
       "      <td>&lt;UID: befbda91a96b438b94903fe07bf33d2b&gt;</td>\n",
       "      <td>[x_train]</td>\n",
       "      <td></td>\n",
       "      <td>&lt;class 'torch.Tensor'&gt;</td>\n",
       "    </tr>\n",
       "    <tr>\n",
       "      <th>1</th>\n",
       "      <td>&lt;UID: 820c2aad01bf4c1986e7ebf32bcbc3fa&gt;</td>\n",
       "      <td>[y_train]</td>\n",
       "      <td></td>\n",
       "      <td>&lt;class 'torch.Tensor'&gt;</td>\n",
       "    </tr>\n",
       "  </tbody>\n",
       "</table>\n",
       "</div>"
      ],
      "text/plain": [
       "                                        ID       Tags Description  \\\n",
       "0  <UID: befbda91a96b438b94903fe07bf33d2b>  [x_train]               \n",
       "1  <UID: 820c2aad01bf4c1986e7ebf32bcbc3fa>  [y_train]               \n",
       "\n",
       "              object_type  \n",
       "0  <class 'torch.Tensor'>  \n",
       "1  <class 'torch.Tensor'>  "
      ]
     },
     "execution_count": 5,
     "metadata": {},
     "output_type": "execute_result"
    }
   ],
   "source": [
    "duet.store.pandas"
   ]
  },
  {
   "cell_type": "markdown",
   "metadata": {},
   "source": [
    "### Request the training data\n",
    "\n",
    "We request access to the training data."
   ]
  },
  {
   "cell_type": "code",
   "execution_count": 6,
   "metadata": {},
   "outputs": [],
   "source": [
    "x_train_ptr = duet.store[\"x_train\"]\n",
    "y_train_ptr = duet.store[\"y_train\"]\n",
    "x_train_ptr.request(reason=\"I would like to get the training data\")\n",
    "y_train_ptr.request(reason=\"I would like to get the training labels\")\n"
   ]
  },
  {
   "cell_type": "code",
   "execution_count": 7,
   "metadata": {},
   "outputs": [
    {
     "data": {
      "text/html": [
       "<div>\n",
       "<style scoped>\n",
       "    .dataframe tbody tr th:only-of-type {\n",
       "        vertical-align: middle;\n",
       "    }\n",
       "\n",
       "    .dataframe tbody tr th {\n",
       "        vertical-align: top;\n",
       "    }\n",
       "\n",
       "    .dataframe thead th {\n",
       "        text-align: right;\n",
       "    }\n",
       "</style>\n",
       "<table border=\"1\" class=\"dataframe\">\n",
       "  <thead>\n",
       "    <tr style=\"text-align: right;\">\n",
       "      <th></th>\n",
       "      <th>Requested Object's tags</th>\n",
       "      <th>Reason</th>\n",
       "      <th>Request ID</th>\n",
       "      <th>Requested Object's ID</th>\n",
       "      <th>Requested Object's type</th>\n",
       "    </tr>\n",
       "  </thead>\n",
       "  <tbody>\n",
       "    <tr>\n",
       "      <th>0</th>\n",
       "      <td>[x_train]</td>\n",
       "      <td>I would like to get the training data</td>\n",
       "      <td>&lt;UID: 90854230809541608a55bed379ec17f7&gt;</td>\n",
       "      <td>&lt;UID: befbda91a96b438b94903fe07bf33d2b&gt;</td>\n",
       "      <td>&lt;class 'torch.Tensor'&gt;</td>\n",
       "    </tr>\n",
       "    <tr>\n",
       "      <th>1</th>\n",
       "      <td>[y_train]</td>\n",
       "      <td>I would like to get the training labels</td>\n",
       "      <td>&lt;UID: a6b07546455f4b3a978323addf9c47c1&gt;</td>\n",
       "      <td>&lt;UID: 820c2aad01bf4c1986e7ebf32bcbc3fa&gt;</td>\n",
       "      <td>&lt;class 'torch.Tensor'&gt;</td>\n",
       "    </tr>\n",
       "  </tbody>\n",
       "</table>\n",
       "</div>"
      ],
      "text/plain": [
       "  Requested Object's tags                                   Reason  \\\n",
       "0               [x_train]    I would like to get the training data   \n",
       "1               [y_train]  I would like to get the training labels   \n",
       "\n",
       "                                Request ID  \\\n",
       "0  <UID: 90854230809541608a55bed379ec17f7>   \n",
       "1  <UID: a6b07546455f4b3a978323addf9c47c1>   \n",
       "\n",
       "                     Requested Object's ID Requested Object's type  \n",
       "0  <UID: befbda91a96b438b94903fe07bf33d2b>  <class 'torch.Tensor'>  \n",
       "1  <UID: 820c2aad01bf4c1986e7ebf32bcbc3fa>  <class 'torch.Tensor'>  "
      ]
     },
     "execution_count": 7,
     "metadata": {},
     "output_type": "execute_result"
    }
   ],
   "source": [
    "duet.requests.pandas"
   ]
  },
  {
   "cell_type": "markdown",
   "metadata": {},
   "source": [
    "### Train the logistic regression\n",
    "\n",
    "Now we train our Logistic regression with the data from the DO instance."
   ]
  },
  {
   "cell_type": "code",
   "execution_count": 8,
   "metadata": {},
   "outputs": [],
   "source": [
    "x_train = x_train_ptr.get(delete_obj=False)\n",
    "y_train = y_train_ptr.get(delete_obj=False)\n",
    "\n",
    "n_features = x_train.shape[1]\n",
    "model = LR(n_features)\n",
    "\n",
    "# use gradient descent with a learning_rate=1\n",
    "optim = torch.optim.SGD(model.parameters(), lr=1)\n",
    "\n",
    "# use Binary Cross Entropy Loss\n",
    "criterion = torch.nn.BCELoss()"
   ]
  },
  {
   "cell_type": "code",
   "execution_count": 10,
   "metadata": {},
   "outputs": [
    {
     "name": "stdout",
     "output_type": "stream",
     "text": [
      "Loss at epoch 1: 0.6129701137542725\n",
      "Loss at epoch 2: 0.6129413843154907\n",
      "Loss at epoch 3: 0.6129173040390015\n",
      "Loss at epoch 4: 0.612896740436554\n",
      "Loss at epoch 5: 0.61287921667099\n",
      "Loss at epoch 6: 0.6128641963005066\n",
      "Loss at epoch 7: 0.6128511428833008\n",
      "Loss at epoch 8: 0.6128397583961487\n",
      "Loss at epoch 9: 0.6128299236297607\n",
      "Loss at epoch 10: 0.6128214001655579\n",
      "Loss at epoch 11: 0.6128137707710266\n",
      "Loss at epoch 12: 0.612807035446167\n",
      "Loss at epoch 13: 0.6128012537956238\n",
      "Loss at epoch 14: 0.6127961277961731\n",
      "Loss at epoch 15: 0.6127914786338806\n",
      "Loss at epoch 16: 0.6127874851226807\n",
      "Loss at epoch 17: 0.6127839088439941\n",
      "Loss at epoch 18: 0.6127808094024658\n",
      "Loss at epoch 19: 0.6127779483795166\n",
      "Loss at epoch 20: 0.6127755045890808\n",
      "Loss at epoch 21: 0.6127732992172241\n",
      "Loss at epoch 22: 0.6127712726593018\n",
      "Loss at epoch 23: 0.612769603729248\n",
      "Loss at epoch 24: 0.6127680540084839\n",
      "Loss at epoch 25: 0.612766683101654\n",
      "Loss at epoch 26: 0.6127654910087585\n",
      "Loss at epoch 27: 0.6127643585205078\n",
      "Loss at epoch 28: 0.6127634048461914\n",
      "Loss at epoch 29: 0.6127626299858093\n",
      "Loss at epoch 30: 0.6127617955207825\n"
     ]
    }
   ],
   "source": [
    "EPOCHS = 20\n",
    "\n",
    "def train(model, optim, criterion, x, y, epochs=EPOCHS):\n",
    "    for e in range(1, epochs + 1):\n",
    "        optim.zero_grad()\n",
    "        out = model(x)\n",
    "        loss = criterion(out, y)\n",
    "        loss.backward()\n",
    "        optim.step()\n",
    "        print(f\"Loss at epoch {e}: {loss.data}\")\n",
    "    return model\n",
    "\n",
    "model = train(model, optim, criterion, x_train, y_train)"
   ]
  },
  {
   "cell_type": "markdown",
   "metadata": {},
   "source": [
    "### Request the encrypted data\n",
    "\n",
    "We create the model variant that cand handle encrypted tensors."
   ]
  },
  {
   "cell_type": "code",
   "execution_count": 11,
   "metadata": {},
   "outputs": [],
   "source": [
    "eelr = EncryptedLR(model)"
   ]
  },
  {
   "cell_type": "markdown",
   "metadata": {},
   "source": [
    "### Look at the Duet store\n"
   ]
  },
  {
   "cell_type": "code",
   "execution_count": 12,
   "metadata": {},
   "outputs": [
    {
     "data": {
      "text/html": [
       "<div>\n",
       "<style scoped>\n",
       "    .dataframe tbody tr th:only-of-type {\n",
       "        vertical-align: middle;\n",
       "    }\n",
       "\n",
       "    .dataframe tbody tr th {\n",
       "        vertical-align: top;\n",
       "    }\n",
       "\n",
       "    .dataframe thead th {\n",
       "        text-align: right;\n",
       "    }\n",
       "</style>\n",
       "<table border=\"1\" class=\"dataframe\">\n",
       "  <thead>\n",
       "    <tr style=\"text-align: right;\">\n",
       "      <th></th>\n",
       "      <th>ID</th>\n",
       "      <th>Tags</th>\n",
       "      <th>Description</th>\n",
       "      <th>object_type</th>\n",
       "    </tr>\n",
       "  </thead>\n",
       "  <tbody>\n",
       "    <tr>\n",
       "      <th>0</th>\n",
       "      <td>&lt;UID: befbda91a96b438b94903fe07bf33d2b&gt;</td>\n",
       "      <td>[x_train]</td>\n",
       "      <td></td>\n",
       "      <td>&lt;class 'torch.Tensor'&gt;</td>\n",
       "    </tr>\n",
       "    <tr>\n",
       "      <th>1</th>\n",
       "      <td>&lt;UID: 820c2aad01bf4c1986e7ebf32bcbc3fa&gt;</td>\n",
       "      <td>[y_train]</td>\n",
       "      <td></td>\n",
       "      <td>&lt;class 'torch.Tensor'&gt;</td>\n",
       "    </tr>\n",
       "  </tbody>\n",
       "</table>\n",
       "</div>"
      ],
      "text/plain": [
       "                                        ID       Tags Description  \\\n",
       "0  <UID: befbda91a96b438b94903fe07bf33d2b>  [x_train]               \n",
       "1  <UID: 820c2aad01bf4c1986e7ebf32bcbc3fa>  [y_train]               \n",
       "\n",
       "              object_type  \n",
       "0  <class 'torch.Tensor'>  \n",
       "1  <class 'torch.Tensor'>  "
      ]
     },
     "execution_count": 12,
     "metadata": {},
     "output_type": "execute_result"
    }
   ],
   "source": [
    "duet.store.pandas"
   ]
  },
  {
   "cell_type": "markdown",
   "metadata": {},
   "source": [
    "### Get pointers to the encrypted vectors and request permission to work on them."
   ]
  },
  {
   "cell_type": "code",
   "execution_count": 14,
   "metadata": {},
   "outputs": [],
   "source": [
    "ctx_ptr = duet.store[\"context\"]\n",
    "enc_x_test_ptr = duet.store[\"enc_x_test\"]\n",
    "\n",
    "ctx_ptr.request(reason=\"I would like to get the context\")\n",
    "enc_x_test_ptr.request(reason=\"I would like to get encrypted test set\")"
   ]
  },
  {
   "cell_type": "markdown",
   "metadata": {},
   "source": [
    "### Encrypted evaluation"
   ]
  },
  {
   "cell_type": "code",
   "execution_count": 16,
   "metadata": {},
   "outputs": [],
   "source": [
    "def encrypted_evaluation(model, enc_x_test):\n",
    "    results = []\n",
    "    \n",
    "    correct = 0\n",
    "    for enc_x in enc_x_test:\n",
    "        # encrypted evaluation\n",
    "        results.append(model(enc_x))\n",
    "    return results\n",
    "\n",
    "enc_x_test = enc_x_test_ptr.get(delete_obj=False)\n",
    "ctx = ctx_ptr.get(delete_obj=False)\n",
    "for t in enc_x_test:\n",
    "    t.link_context(ctx)\n",
    "\n",
    "eval_res = encrypted_evaluation(eelr, enc_x_test)"
   ]
  },
  {
   "cell_type": "markdown",
   "metadata": {},
   "source": [
    "### Send the result to duet store and print it "
   ]
  },
  {
   "cell_type": "code",
   "execution_count": 17,
   "metadata": {},
   "outputs": [
    {
     "name": "stdout",
     "output_type": "stream",
     "text": [
      "[<syft.proxy.torch.TensorPointer object at 0x7f3ee0d4a510>, <syft.proxy.torch.TensorPointer object at 0x7f3ee0d4a7d0>, <syft.proxy.tenseal.ContextPointer object at 0x7f3ee0d4aa50>, <syft.proxy.syft.lib.python.ListPointer object at 0x7f3ee2488e90>, <syft.proxy.syft.lib.python.ListPointer object at 0x7f3ee24888d0>]\n"
     ]
    }
   ],
   "source": [
    "result_eval_ptr = sy.lib.python.List(eval_res).send(duet, pointable=True, tags=[\"result_eval\"])\n",
    "\n",
    "print(duet.store)"
   ]
  },
  {
   "cell_type": "code",
   "execution_count": null,
   "metadata": {},
   "outputs": [],
   "source": []
  }
 ],
 "metadata": {
  "kernelspec": {
   "display_name": "Python 3 (ipykernel)",
   "language": "python",
   "name": "python3"
  },
  "language_info": {
   "codemirror_mode": {
    "name": "ipython",
    "version": 3
   },
   "file_extension": ".py",
   "mimetype": "text/x-python",
   "name": "python",
   "nbconvert_exporter": "python",
   "pygments_lexer": "ipython3",
   "version": "3.7.10"
  }
 },
 "nbformat": 4,
 "nbformat_minor": 4
}
